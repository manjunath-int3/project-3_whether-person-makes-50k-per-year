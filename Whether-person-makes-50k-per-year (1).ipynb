{
 "cells": [
  {
   "cell_type": "code",
   "execution_count": 1,
   "metadata": {},
   "outputs": [
    {
     "name": "stderr",
     "output_type": "stream",
     "text": [
      "C:\\Users\\USER\\Anaconda3\\lib\\site-packages\\sklearn\\cross_validation.py:41: DeprecationWarning: This module was deprecated in version 0.18 in favor of the model_selection module into which all the refactored classes and functions are moved. Also note that the interface of the new CV iterators are different from that of this module. This module will be removed in 0.20.\n",
      "  \"This module will be removed in 0.20.\", DeprecationWarning)\n"
     ]
    },
    {
     "data": {
      "text/html": [
       "<div>\n",
       "<style scoped>\n",
       "    .dataframe tbody tr th:only-of-type {\n",
       "        vertical-align: middle;\n",
       "    }\n",
       "\n",
       "    .dataframe tbody tr th {\n",
       "        vertical-align: top;\n",
       "    }\n",
       "\n",
       "    .dataframe thead th {\n",
       "        text-align: right;\n",
       "    }\n",
       "</style>\n",
       "<table border=\"1\" class=\"dataframe\">\n",
       "  <thead>\n",
       "    <tr style=\"text-align: right;\">\n",
       "      <th></th>\n",
       "      <th>39</th>\n",
       "      <th>State-gov</th>\n",
       "      <th>77516</th>\n",
       "      <th>Bachelors</th>\n",
       "      <th>13</th>\n",
       "      <th>Never-married</th>\n",
       "      <th>Adm-clerical</th>\n",
       "      <th>Not-in-family</th>\n",
       "      <th>White</th>\n",
       "      <th>Male</th>\n",
       "      <th>2174</th>\n",
       "      <th>0</th>\n",
       "      <th>40</th>\n",
       "      <th>United-States</th>\n",
       "      <th>&lt;=50K</th>\n",
       "    </tr>\n",
       "  </thead>\n",
       "  <tbody>\n",
       "    <tr>\n",
       "      <th>0</th>\n",
       "      <td>50</td>\n",
       "      <td>Self-emp-not-inc</td>\n",
       "      <td>83311</td>\n",
       "      <td>Bachelors</td>\n",
       "      <td>13</td>\n",
       "      <td>Married-civ-spouse</td>\n",
       "      <td>Exec-managerial</td>\n",
       "      <td>Husband</td>\n",
       "      <td>White</td>\n",
       "      <td>Male</td>\n",
       "      <td>0</td>\n",
       "      <td>0</td>\n",
       "      <td>13</td>\n",
       "      <td>United-States</td>\n",
       "      <td>&lt;=50K</td>\n",
       "    </tr>\n",
       "    <tr>\n",
       "      <th>1</th>\n",
       "      <td>38</td>\n",
       "      <td>Private</td>\n",
       "      <td>215646</td>\n",
       "      <td>HS-grad</td>\n",
       "      <td>9</td>\n",
       "      <td>Divorced</td>\n",
       "      <td>Handlers-cleaners</td>\n",
       "      <td>Not-in-family</td>\n",
       "      <td>White</td>\n",
       "      <td>Male</td>\n",
       "      <td>0</td>\n",
       "      <td>0</td>\n",
       "      <td>40</td>\n",
       "      <td>United-States</td>\n",
       "      <td>&lt;=50K</td>\n",
       "    </tr>\n",
       "    <tr>\n",
       "      <th>2</th>\n",
       "      <td>53</td>\n",
       "      <td>Private</td>\n",
       "      <td>234721</td>\n",
       "      <td>11th</td>\n",
       "      <td>7</td>\n",
       "      <td>Married-civ-spouse</td>\n",
       "      <td>Handlers-cleaners</td>\n",
       "      <td>Husband</td>\n",
       "      <td>Black</td>\n",
       "      <td>Male</td>\n",
       "      <td>0</td>\n",
       "      <td>0</td>\n",
       "      <td>40</td>\n",
       "      <td>United-States</td>\n",
       "      <td>&lt;=50K</td>\n",
       "    </tr>\n",
       "    <tr>\n",
       "      <th>3</th>\n",
       "      <td>28</td>\n",
       "      <td>Private</td>\n",
       "      <td>338409</td>\n",
       "      <td>Bachelors</td>\n",
       "      <td>13</td>\n",
       "      <td>Married-civ-spouse</td>\n",
       "      <td>Prof-specialty</td>\n",
       "      <td>Wife</td>\n",
       "      <td>Black</td>\n",
       "      <td>Female</td>\n",
       "      <td>0</td>\n",
       "      <td>0</td>\n",
       "      <td>40</td>\n",
       "      <td>Cuba</td>\n",
       "      <td>&lt;=50K</td>\n",
       "    </tr>\n",
       "    <tr>\n",
       "      <th>4</th>\n",
       "      <td>37</td>\n",
       "      <td>Private</td>\n",
       "      <td>284582</td>\n",
       "      <td>Masters</td>\n",
       "      <td>14</td>\n",
       "      <td>Married-civ-spouse</td>\n",
       "      <td>Exec-managerial</td>\n",
       "      <td>Wife</td>\n",
       "      <td>White</td>\n",
       "      <td>Female</td>\n",
       "      <td>0</td>\n",
       "      <td>0</td>\n",
       "      <td>40</td>\n",
       "      <td>United-States</td>\n",
       "      <td>&lt;=50K</td>\n",
       "    </tr>\n",
       "  </tbody>\n",
       "</table>\n",
       "</div>"
      ],
      "text/plain": [
       "   39          State-gov   77516   Bachelors   13        Never-married  \\\n",
       "0  50   Self-emp-not-inc   83311   Bachelors   13   Married-civ-spouse   \n",
       "1  38            Private  215646     HS-grad    9             Divorced   \n",
       "2  53            Private  234721        11th    7   Married-civ-spouse   \n",
       "3  28            Private  338409   Bachelors   13   Married-civ-spouse   \n",
       "4  37            Private  284582     Masters   14   Married-civ-spouse   \n",
       "\n",
       "         Adm-clerical   Not-in-family   White     Male   2174   0   40  \\\n",
       "0     Exec-managerial         Husband   White     Male      0   0   13   \n",
       "1   Handlers-cleaners   Not-in-family   White     Male      0   0   40   \n",
       "2   Handlers-cleaners         Husband   Black     Male      0   0   40   \n",
       "3      Prof-specialty            Wife   Black   Female      0   0   40   \n",
       "4     Exec-managerial            Wife   White   Female      0   0   40   \n",
       "\n",
       "    United-States   <=50K  \n",
       "0   United-States   <=50K  \n",
       "1   United-States   <=50K  \n",
       "2   United-States   <=50K  \n",
       "3            Cuba   <=50K  \n",
       "4   United-States   <=50K  "
      ]
     },
     "execution_count": 1,
     "metadata": {},
     "output_type": "execute_result"
    }
   ],
   "source": [
    "import numpy as np\n",
    "import pandas as pd\n",
    "import matplotlib as mpl\n",
    "import matplotlib.pyplot as plt \n",
    "import seaborn as sn\n",
    "from sklearn import preprocessing, cross_validation, svm\n",
    "from sklearn.linear_model import LogisticRegression\n",
    "from sklearn.preprocessing import StandardScaler\n",
    "from sklearn.metrics import confusion_matrix, classification_report \n",
    "\n",
    "df=pd.read_csv('adult.data.txt')\n",
    "\n",
    "df.head()"
   ]
  },
  {
   "cell_type": "code",
   "execution_count": 2,
   "metadata": {},
   "outputs": [],
   "source": [
    "df = df.replace(' ?',np.nan)\n",
    "df = df.dropna(how = 'any')\n",
    "df.columns = df.columns.to_series().apply(lambda x: x.strip())"
   ]
  },
  {
   "cell_type": "code",
   "execution_count": 3,
   "metadata": {},
   "outputs": [
    {
     "data": {
      "text/plain": [
       "Index(['39', 'State-gov', '77516', 'Bachelors', '13', 'Never-married',\n",
       "       'Adm-clerical', 'Not-in-family', 'White', 'Male', '2174', '0', '40',\n",
       "       'United-States', '<=50K'],\n",
       "      dtype='object')"
      ]
     },
     "execution_count": 3,
     "metadata": {},
     "output_type": "execute_result"
    }
   ],
   "source": [
    "df.head()\n",
    "df.columns"
   ]
  },
  {
   "cell_type": "code",
   "execution_count": 6,
   "metadata": {},
   "outputs": [],
   "source": [
    "raw_X = df[df.columns[0:14]]\n",
    "y = y=df.iloc[:,-1].values"
   ]
  },
  {
   "cell_type": "code",
   "execution_count": 7,
   "metadata": {},
   "outputs": [],
   "source": [
    "X = pd.concat([pd.get_dummies(raw_X[['State-gov','Bachelors','Never-married','Adm-clerical','Not-in-family','\\\n",
    "White','Male','United-States']]),raw_X[['39','77516','13','2174','0','40']]],ignore_index=True, axis = 1)"
   ]
  },
  {
   "cell_type": "code",
   "execution_count": 8,
   "metadata": {},
   "outputs": [],
   "source": [
    "X_train, X_test, y_train, y_test = cross_validation.train_test_split(X, y, test_size=1/3)"
   ]
  },
  {
   "cell_type": "code",
   "execution_count": 9,
   "metadata": {},
   "outputs": [
    {
     "name": "stdout",
     "output_type": "stream",
     "text": [
      "[[5235 2317]\n",
      " [ 484 2018]]\n",
      "             precision    recall  f1-score   support\n",
      "\n",
      "      <=50K       0.92      0.69      0.79      7552\n",
      "       >50K       0.47      0.81      0.59      2502\n",
      "\n",
      "avg / total       0.80      0.72      0.74     10054\n",
      "\n",
      "The Accuracy for Logistic Regression is 0.7214044161527751\n"
     ]
    }
   ],
   "source": [
    "from sklearn.metrics import accuracy_score\n",
    "lrn = LogisticRegression(penalty = 'l1', C = .001, class_weight='balanced')\n",
    "\n",
    "lrn.fit(X_train, y_train)\n",
    "y_pred = lrn.predict(X_test)\n",
    "\n",
    "##########Results\n",
    "print(confusion_matrix(y_test,y_pred))\n",
    "print(classification_report(y_test,y_pred))\n",
    "LRA = accuracy_score(y_test, y_pred)\n",
    "print(\"The Accuracy for Logistic Regression is {}\".format(LRA))"
   ]
  },
  {
   "cell_type": "code",
   "execution_count": 9,
   "metadata": {},
   "outputs": [
    {
     "name": "stdout",
     "output_type": "stream",
     "text": [
      "[[6914  622]\n",
      " [1719  799]]\n",
      "             precision    recall  f1-score   support\n",
      "\n",
      "      <=50K       0.80      0.92      0.86      7536\n",
      "       >50K       0.56      0.32      0.41      2518\n",
      "\n",
      "avg / total       0.74      0.77      0.74     10054\n",
      "\n",
      "The Accuracy for KNN is 0.767157350308335\n"
     ]
    }
   ],
   "source": [
    "############################################## KNN ###############\n",
    "from sklearn import preprocessing, cross_validation, neighbors\n",
    "from sklearn.metrics import accuracy_score\n",
    "\n",
    "clf = neighbors.KNeighborsClassifier()\n",
    "\n",
    "clf.fit(X_train, y_train)\n",
    "\n",
    "knnpre = clf.predict(X_test)\n",
    "\n",
    "##########Results\n",
    "\n",
    "print(confusion_matrix(y_test,knnpre))\n",
    "print(classification_report(y_test,knnpre))\n",
    "KKNA = accuracy_score(y_test, knnpre)\n",
    "print(\"The Accuracy for KNN is {}\".format(KKNA))"
   ]
  },
  {
   "cell_type": "code",
   "execution_count": 10,
   "metadata": {},
   "outputs": [
    {
     "name": "stdout",
     "output_type": "stream",
     "text": [
      "[[7160  376]\n",
      " [1217 1301]]\n",
      "             precision    recall  f1-score   support\n",
      "\n",
      "      <=50K       0.85      0.95      0.90      7536\n",
      "       >50K       0.78      0.52      0.62      2518\n",
      "\n",
      "avg / total       0.83      0.84      0.83     10054\n",
      "\n",
      "The Accuracy for Decision Tree Model is 0.841555599761289\n"
     ]
    }
   ],
   "source": [
    "################################ Decision tree ###########################################\n",
    "\n",
    "from sklearn.tree import DecisionTreeClassifier, export_graphviz, export\n",
    "from sklearn import metrics\n",
    "\n",
    "clf_tree = DecisionTreeClassifier( max_depth = 4 )\n",
    "\n",
    "clf_tree.fit( X_train, y_train )\n",
    "tree_predict = clf_tree.predict( X_test )\n",
    "metrics.accuracy_score( y_test, tree_predict )\n",
    "\n",
    "print(confusion_matrix(y_test,tree_predict))\n",
    "print(classification_report(y_test,tree_predict))\n",
    "DTA = accuracy_score(y_test, tree_predict)\n",
    "print(\"The Accuracy for Decision Tree Model is {}\".format(DTA))\n",
    "#The accuracy for this model can be viewed at : https://tinyurl.com/y9uzgtlc"
   ]
  },
  {
   "cell_type": "code",
   "execution_count": null,
   "metadata": {},
   "outputs": [],
   "source": [
    "################################ SVM #####################################\n",
    "\n",
    "from sklearn.svm import SVC\n",
    "from sklearn.grid_search import GridSearchCV\n",
    "\n",
    "svc = SVC(C = 1.0, kernel = \"linear\" )\n",
    "svc.fit( X_train, y_train )\n",
    "svc_predict = svc.predict( X_test )\n",
    "\n",
    "print(confusion_matrix(y_test,svc_predict))\n",
    "print(classification_report(y_test,svc_predict))\n",
    "SVMA = accuracy_score(y_test, svc_predict)\n",
    "print(\"The Accuracy for SVM is {}\".format(SVMA))"
   ]
  },
  {
   "cell_type": "code",
   "execution_count": 12,
   "metadata": {},
   "outputs": [
    {
     "name": "stdout",
     "output_type": "stream",
     "text": [
      "[' <=50K' ' <=50K' ' <=50K' ... ' <=50K' ' <=50K' ' <=50K']\n",
      "[[7170  382]\n",
      " [1695  807]]\n",
      "             precision    recall  f1-score   support\n",
      "\n",
      "      <=50K       0.81      0.95      0.87      7552\n",
      "       >50K       0.68      0.32      0.44      2502\n",
      "\n",
      "avg / total       0.78      0.79      0.76     10054\n",
      "\n",
      "The Accuracy for NB is 0.7934155559976129\n"
     ]
    }
   ],
   "source": [
    "####################### NAIVE  #####################################\n",
    "from sklearn.naive_bayes import GaussianNB\n",
    "from sklearn import metrics\n",
    "from sklearn.metrics import accuracy_score\n",
    "\n",
    "model = GaussianNB()\n",
    "\n",
    "# Train the model using the training sets \n",
    "model.fit(X_train, y_train)\n",
    "\n",
    "#Predict Output \n",
    "naive_pre= model.predict(X_test)\n",
    "print (naive_pre)\n",
    "##result\n",
    "print(confusion_matrix(y_test,naive_pre))\n",
    "print(classification_report(y_test,naive_pre))\n",
    "NBA = accuracy_score(y_test, naive_pre)\n",
    "print(\"The Accuracy for NB is {}\".format(NBA))"
   ]
  },
  {
   "cell_type": "code",
   "execution_count": 13,
   "metadata": {},
   "outputs": [
    {
     "name": "stdout",
     "output_type": "stream",
     "text": [
      "Best: -0.286349 using {'learning_rate': 0.1, 'n_estimators': 500}\n",
      "-0.687878 (0.000103) with: {'learning_rate': 0.0001, 'n_estimators': 100}\n",
      "-0.682713 (0.000205) with: {'learning_rate': 0.0001, 'n_estimators': 200}\n",
      "-0.677649 (0.000305) with: {'learning_rate': 0.0001, 'n_estimators': 300}\n",
      "-0.672683 (0.000403) with: {'learning_rate': 0.0001, 'n_estimators': 400}\n",
      "-0.667811 (0.000498) with: {'learning_rate': 0.0001, 'n_estimators': 500}\n",
      "-0.644780 (0.000953) with: {'learning_rate': 0.001, 'n_estimators': 100}\n",
      "-0.604642 (0.001773) with: {'learning_rate': 0.001, 'n_estimators': 200}\n",
      "-0.571018 (0.002496) with: {'learning_rate': 0.001, 'n_estimators': 300}\n",
      "-0.542558 (0.003115) with: {'learning_rate': 0.001, 'n_estimators': 400}\n",
      "-0.518267 (0.003639) with: {'learning_rate': 0.001, 'n_estimators': 500}\n",
      "-0.437157 (0.005589) with: {'learning_rate': 0.01, 'n_estimators': 100}\n",
      "-0.368791 (0.006895) with: {'learning_rate': 0.01, 'n_estimators': 200}\n",
      "-0.341601 (0.008039) with: {'learning_rate': 0.01, 'n_estimators': 300}\n",
      "-0.328674 (0.009049) with: {'learning_rate': 0.01, 'n_estimators': 400}\n",
      "-0.321179 (0.009859) with: {'learning_rate': 0.01, 'n_estimators': 500}\n",
      "-0.301801 (0.011919) with: {'learning_rate': 0.1, 'n_estimators': 100}\n",
      "-0.292215 (0.013016) with: {'learning_rate': 0.1, 'n_estimators': 200}\n",
      "-0.288393 (0.013363) with: {'learning_rate': 0.1, 'n_estimators': 300}\n",
      "-0.286856 (0.014115) with: {'learning_rate': 0.1, 'n_estimators': 400}\n",
      "-0.286349 (0.014650) with: {'learning_rate': 0.1, 'n_estimators': 500}\n",
      "-0.292024 (0.012207) with: {'learning_rate': 0.2, 'n_estimators': 100}\n",
      "-0.287502 (0.013544) with: {'learning_rate': 0.2, 'n_estimators': 200}\n",
      "-0.287139 (0.014099) with: {'learning_rate': 0.2, 'n_estimators': 300}\n",
      "-0.288197 (0.014242) with: {'learning_rate': 0.2, 'n_estimators': 400}\n",
      "-0.290380 (0.014574) with: {'learning_rate': 0.2, 'n_estimators': 500}\n",
      "-0.288312 (0.012876) with: {'learning_rate': 0.3, 'n_estimators': 100}\n",
      "-0.287484 (0.014570) with: {'learning_rate': 0.3, 'n_estimators': 200}\n",
      "-0.290525 (0.015053) with: {'learning_rate': 0.3, 'n_estimators': 300}\n",
      "-0.292982 (0.015994) with: {'learning_rate': 0.3, 'n_estimators': 400}\n",
      "-0.297100 (0.015947) with: {'learning_rate': 0.3, 'n_estimators': 500}\n"
     ]
    },
    {
     "data": {
      "image/png": "[encoded data removed]",
      "text/plain": [
       "<Figure size 432x288 with 1 Axes>"
      ]
     },
     "metadata": {},
     "output_type": "display_data"
    }
   ],
   "source": [
    "############## This xgboost code is where I experiment which learning rate and what number of estimators are BEST\n",
    "\n",
    "from xgboost import XGBClassifier\n",
    "from sklearn.model_selection import GridSearchCV\n",
    "from sklearn.model_selection import StratifiedKFold\n",
    "from sklearn.preprocessing import LabelEncoder\n",
    "import matplotlib\n",
    "import numpy\n",
    "from matplotlib import pyplot\n",
    "from pandas import read_csv\n",
    "# grid search\n",
    "model = XGBClassifier()\n",
    "n_estimators = [100, 200, 300, 400, 500]\n",
    "learning_rate = [0.0001, 0.001, 0.01, 0.1, 0.2, 0.3]\n",
    "param_grid = dict(learning_rate=learning_rate, n_estimators=n_estimators)\n",
    "kfold = StratifiedKFold(n_splits=10, shuffle=True, random_state=7)\n",
    "grid_search = GridSearchCV(model, param_grid, scoring=\"neg_log_loss\", n_jobs=-1, cv=kfold)\n",
    "grid_result = grid_search.fit(X_train, y_train)\n",
    "# summarize results\n",
    "print(\"Best: %f using %s\" % (grid_result.best_score_, grid_result.best_params_))\n",
    "means = grid_result.cv_results_['mean_test_score']\n",
    "stds = grid_result.cv_results_['std_test_score']\n",
    "params = grid_result.cv_results_['params']\n",
    "for mean, stdev, param in zip(means, stds, params):\n",
    "\tprint(\"%f (%f) with: %r\" % (mean, stdev, param))\n",
    "# plot results\n",
    "scores = numpy.array(means).reshape(len(learning_rate), len(n_estimators))\n",
    "for i, value in enumerate(learning_rate):\n",
    "    pyplot.plot(n_estimators, scores[i], label='learning_rate: ' + str(value))\n",
    "pyplot.legend()\n",
    "pyplot.xlabel('n_estimators')\n",
    "pyplot.ylabel('Log Loss')\n",
    "pyplot.savefig('n_estimators_vs_learning_rate.png')"
   ]
  },
  {
   "cell_type": "code",
   "execution_count": 10,
   "metadata": {},
   "outputs": [
    {
     "data": {
      "image/png": "[encoded data removed]",
      "text/plain": [
       "<Figure size 432x288 with 1 Axes>"
      ]
     },
     "metadata": {},
     "output_type": "display_data"
    },
    {
     "name": "stderr",
     "output_type": "stream",
     "text": [
      "C:\\Users\\USER\\Anaconda3\\lib\\site-packages\\sklearn\\preprocessing\\label.py:151: DeprecationWarning: The truth value of an empty array is ambiguous. Returning False, but in future this will result in an error. Use `array.size > 0` to check that an array is not empty.\n",
      "  if diff:\n"
     ]
    },
    {
     "name": "stdout",
     "output_type": "stream",
     "text": [
      "training set auc: 0.8711955440620649\n",
      "test set auc: 0.8711955440620649\n",
      "{'base_score': 0.5, 'booster': 'gbtree', 'colsample_bylevel': 1, 'colsample_bytree': 1, 'gamma': 0, 'learning_rate': 0.1, 'max_delta_step': 0, 'max_depth': 5, 'min_child_weight': 4, 'missing': None, 'n_estimators': 500, 'n_jobs': 1, 'nthread': None, 'objective': 'binary:logistic', 'random_state': 0, 'reg_alpha': 0, 'reg_lambda': 1, 'scale_pos_weight': 1, 'seed': None, 'silent': True, 'subsample': 1}\n",
      "The Accuracy  is 0.8711955440620649\n"
     ]
    },
    {
     "name": "stderr",
     "output_type": "stream",
     "text": [
      "C:\\Users\\USER\\Anaconda3\\lib\\site-packages\\sklearn\\preprocessing\\label.py:151: DeprecationWarning: The truth value of an empty array is ambiguous. Returning False, but in future this will result in an error. Use `array.size > 0` to check that an array is not empty.\n",
      "  if diff:\n"
     ]
    }
   ],
   "source": [
    "############# XGboost - Picking the best values for learning rate and estimators  \n",
    "\n",
    "import xgboost as xgb\n",
    "from sklearn.model_selection import StratifiedKFold\n",
    "from sklearn.model_selection import GridSearchCV\n",
    "model = xgb.XGBClassifier(learning_rate=0.1,\n",
    "                           n_estimators=500,\n",
    "                           max_depth=5,\n",
    "                           min_child_weight=4\n",
    "                           )\n",
    "final_m=model.fit(X_train, y_train)\n",
    "xgb.plot_importance(final_m)\n",
    "plt.show()\n",
    "predictions = model.predict(X_test)\n",
    "print(\"training set auc:\",accuracy_score(y_test, predictions))\n",
    "predictions = model.predict(X_test)\n",
    "print(\"test set auc:\",accuracy_score(y_test, predictions))\n",
    "print(model.get_params())\n",
    "\n",
    "XGBA = accuracy_score(y_test, predictions)\n",
    "print(\"The Accuracy  is {}\".format(XGBA))"
   ]
  },
  {
   "cell_type": "code",
   "execution_count": null,
   "metadata": {},
   "outputs": [],
   "source": []
  }
 ],
 "metadata": {
  "kernelspec": {
   "display_name": "Python 3",
   "language": "python",
   "name": "python3"
  },
  "language_info": {
   "codemirror_mode": {
    "name": "ipython",
    "version": 3
   },
   "file_extension": ".py",
   "mimetype": "text/x-python",
   "name": "python",
   "nbconvert_exporter": "python",
   "pygments_lexer": "ipython3",
   "version": "3.6.5"
  }
 },
 "nbformat": 4,
 "nbformat_minor": 2
}
